{
 "cells": [
  {
   "cell_type": "code",
   "execution_count": 1,
   "metadata": {},
   "outputs": [],
   "source": [
    "#Importing numpy, pandas and matplotlip\n",
    "import pandas as pd\n",
    "import numpy as np\n",
    "import matplotlib.pyplot as plt\n",
    "from sklearn.model_selection import train_test_split"
   ]
  },
  {
   "cell_type": "code",
   "execution_count": 2,
   "metadata": {},
   "outputs": [
    {
     "data": {
      "text/html": [
       "<div>\n",
       "<style scoped>\n",
       "    .dataframe tbody tr th:only-of-type {\n",
       "        vertical-align: middle;\n",
       "    }\n",
       "\n",
       "    .dataframe tbody tr th {\n",
       "        vertical-align: top;\n",
       "    }\n",
       "\n",
       "    .dataframe thead th {\n",
       "        text-align: right;\n",
       "    }\n",
       "</style>\n",
       "<table border=\"1\" class=\"dataframe\">\n",
       "  <thead>\n",
       "    <tr style=\"text-align: right;\">\n",
       "      <th></th>\n",
       "      <th>target</th>\n",
       "      <th>text</th>\n",
       "      <th>user_mentions</th>\n",
       "    </tr>\n",
       "  </thead>\n",
       "  <tbody>\n",
       "    <tr>\n",
       "      <th>0</th>\n",
       "      <td>0</td>\n",
       "      <td>aww bummer shoulda get david carr third day</td>\n",
       "      <td>0.000000</td>\n",
       "    </tr>\n",
       "    <tr>\n",
       "      <th>1</th>\n",
       "      <td>0</td>\n",
       "      <td>upset can  update facebook texting might cry r...</td>\n",
       "      <td>0.000515</td>\n",
       "    </tr>\n",
       "    <tr>\n",
       "      <th>2</th>\n",
       "      <td>0</td>\n",
       "      <td>dive many time ball manage save rest go bound</td>\n",
       "      <td>0.009004</td>\n",
       "    </tr>\n",
       "    <tr>\n",
       "      <th>3</th>\n",
       "      <td>0</td>\n",
       "      <td>whole body feel itchy like fire</td>\n",
       "      <td>0.000257</td>\n",
       "    </tr>\n",
       "    <tr>\n",
       "      <th>4</th>\n",
       "      <td>0</td>\n",
       "      <td>behave mad can  see</td>\n",
       "      <td>0.001801</td>\n",
       "    </tr>\n",
       "    <tr>\n",
       "      <th>...</th>\n",
       "      <td>...</td>\n",
       "      <td>...</td>\n",
       "      <td>...</td>\n",
       "    </tr>\n",
       "    <tr>\n",
       "      <th>1592814</th>\n",
       "      <td>1</td>\n",
       "      <td>wake  school well feel ever</td>\n",
       "      <td>0.000000</td>\n",
       "    </tr>\n",
       "    <tr>\n",
       "      <th>1592815</th>\n",
       "      <td>1</td>\n",
       "      <td>thewdb com cool hear old walt interviews bmta</td>\n",
       "      <td>0.000000</td>\n",
       "    </tr>\n",
       "    <tr>\n",
       "      <th>1592816</th>\n",
       "      <td>1</td>\n",
       "      <td>ready mojo makeover ask detail</td>\n",
       "      <td>0.000000</td>\n",
       "    </tr>\n",
       "    <tr>\n",
       "      <th>1592817</th>\n",
       "      <td>1</td>\n",
       "      <td>happy th birthday boo time tupac amaru shakur</td>\n",
       "      <td>0.000515</td>\n",
       "    </tr>\n",
       "    <tr>\n",
       "      <th>1592818</th>\n",
       "      <td>1</td>\n",
       "      <td>happy charitytuesday</td>\n",
       "      <td>0.000000</td>\n",
       "    </tr>\n",
       "  </tbody>\n",
       "</table>\n",
       "<p>1592819 rows × 3 columns</p>\n",
       "</div>"
      ],
      "text/plain": [
       "         target                                               text  \\\n",
       "0             0        aww bummer shoulda get david carr third day   \n",
       "1             0  upset can  update facebook texting might cry r...   \n",
       "2             0      dive many time ball manage save rest go bound   \n",
       "3             0                    whole body feel itchy like fire   \n",
       "4             0                                behave mad can  see   \n",
       "...         ...                                                ...   \n",
       "1592814       1                        wake  school well feel ever   \n",
       "1592815       1      thewdb com cool hear old walt interviews bmta   \n",
       "1592816       1                     ready mojo makeover ask detail   \n",
       "1592817       1      happy th birthday boo time tupac amaru shakur   \n",
       "1592818       1                               happy charitytuesday   \n",
       "\n",
       "         user_mentions  \n",
       "0             0.000000  \n",
       "1             0.000515  \n",
       "2             0.009004  \n",
       "3             0.000257  \n",
       "4             0.001801  \n",
       "...                ...  \n",
       "1592814       0.000000  \n",
       "1592815       0.000000  \n",
       "1592816       0.000000  \n",
       "1592817       0.000515  \n",
       "1592818       0.000000  \n",
       "\n",
       "[1592819 rows x 3 columns]"
      ]
     },
     "execution_count": 2,
     "metadata": {},
     "output_type": "execute_result"
    }
   ],
   "source": [
    "df=pd.read_csv('cleaned_data2.csv')\n",
    "df"
   ]
  },
  {
   "cell_type": "code",
   "execution_count": 3,
   "metadata": {},
   "outputs": [],
   "source": [
    "from scipy.sparse import csr_matrix\n",
    "from scipy.sparse import hstack"
   ]
  },
  {
   "cell_type": "code",
   "execution_count": 4,
   "metadata": {},
   "outputs": [],
   "source": [
    "from sklearn.feature_extraction.text import CountVectorizer\n",
    "from sklearn.feature_extraction.text import TfidfVectorizer\n",
    "\n",
    "# Create an instance of CountVectorizer\n",
    "vectorizer = CountVectorizer()\n",
    "vectorizer2 = TfidfVectorizer()\n",
    "count_vect_matrix=vectorizer.fit_transform(df['text'])\n",
    "tfidf_vect_matrix=vectorizer2.fit_transform(df['text'])\n",
    "\n"
   ]
  },
  {
   "cell_type": "code",
   "execution_count": 13,
   "metadata": {},
   "outputs": [
    {
     "data": {
      "text/plain": [
       "<1592819x242934 sparse matrix of type '<class 'numpy.int64'>'\n",
       "\twith 10664380 stored elements in Compressed Sparse Row format>"
      ]
     },
     "execution_count": 13,
     "metadata": {},
     "output_type": "execute_result"
    }
   ],
   "source": [
    "count_vect_matrix"
   ]
  },
  {
   "cell_type": "code",
   "execution_count": 5,
   "metadata": {},
   "outputs": [
    {
     "data": {
      "text/plain": [
       "0          0\n",
       "1          0\n",
       "2          0\n",
       "3          0\n",
       "4          0\n",
       "          ..\n",
       "1592814    1\n",
       "1592815    1\n",
       "1592816    1\n",
       "1592817    1\n",
       "1592818    1\n",
       "Name: target, Length: 1592819, dtype: int64"
      ]
     },
     "execution_count": 5,
     "metadata": {},
     "output_type": "execute_result"
    }
   ],
   "source": [
    "labels=df['target']\n",
    "labels"
   ]
  },
  {
   "cell_type": "code",
   "execution_count": 6,
   "metadata": {},
   "outputs": [],
   "source": [
    "user_mentions = pd.Series(df['user_mentions']).values.reshape(-1, 1)\n",
    "user_mentions_sparse = csr_matrix(user_mentions)\n",
    "count_vect_hstack = hstack([count_vect_matrix, user_mentions_sparse]) \n",
    "tfidf_vect_hstack = hstack([tfidf_vect_matrix, user_mentions_sparse]) "
   ]
  },
  {
   "cell_type": "code",
   "execution_count": 23,
   "metadata": {},
   "outputs": [
    {
     "data": {
      "text/plain": [
       "<1592819x242935 sparse matrix of type '<class 'numpy.float64'>'\n",
       "\twith 11344231 stored elements in Compressed Sparse Row format>"
      ]
     },
     "execution_count": 23,
     "metadata": {},
     "output_type": "execute_result"
    }
   ],
   "source": [
    "count_vect_hstack"
   ]
  },
  {
   "cell_type": "code",
   "execution_count": 24,
   "metadata": {},
   "outputs": [
    {
     "data": {
      "text/plain": [
       "<1592819x242935 sparse matrix of type '<class 'numpy.float64'>'\n",
       "\twith 11344231 stored elements in Compressed Sparse Row format>"
      ]
     },
     "execution_count": 24,
     "metadata": {},
     "output_type": "execute_result"
    }
   ],
   "source": [
    "tfidf_vect_hstack"
   ]
  },
  {
   "cell_type": "code",
   "execution_count": 7,
   "metadata": {},
   "outputs": [],
   "source": [
    "from sklearn.model_selection import train_test_split\n"
   ]
  },
  {
   "cell_type": "code",
   "execution_count": 8,
   "metadata": {},
   "outputs": [],
   "source": [
    "from sklearn.linear_model import LogisticRegression"
   ]
  },
  {
   "cell_type": "code",
   "execution_count": 9,
   "metadata": {},
   "outputs": [],
   "source": [
    "from sklearn.metrics import root_mean_squared_error\n",
    "from sklearn.metrics import precision_score\n",
    "from sklearn.metrics import f1_score\n",
    "from sklearn.metrics import accuracy_score\n",
    "from sklearn.metrics import r2_score\n",
    "def evaluate(y_test,predicitions):\n",
    "    mse = root_mean_squared_error(y_test, predicitions)\n",
    "    print(\"Mean Squared Error: \",mse)\n",
    "    pre = precision_score(y_test, predicitions)\n",
    "    print(\"Precision: \",pre)\n",
    "    f1 = f1_score(y_test, predicitions)\n",
    "    print(\"F1 Score: \",f1)\n",
    "    acc = accuracy_score(y_test, predicitions)\n",
    "    print(\"Accuracy: \",acc)\n",
    "    r2 = r2_score(y_test, predicitions)\n",
    "    print(\"R2 Score: \",r2)\n"
   ]
  },
  {
   "cell_type": "code",
   "execution_count": 10,
   "metadata": {},
   "outputs": [],
   "source": [
    "X_train_cv, X_test_cv, y_train_cv, y_test_cv = train_test_split(count_vect_hstack, labels, test_size=0.2, random_state=42)\n",
    "X_train_tfidf, X_test_tfidf, y_train_tfidf, y_test_tfidf = train_test_split(tfidf_vect_hstack, labels, test_size=0.2, random_state=42)"
   ]
  },
  {
   "cell_type": "code",
   "execution_count": 13,
   "metadata": {},
   "outputs": [],
   "source": [
    "import warnings\n",
    "\n",
    "# Disable all warnings\n",
    "warnings.filterwarnings(\"ignore\")"
   ]
  },
  {
   "cell_type": "code",
   "execution_count": 11,
   "metadata": {},
   "outputs": [],
   "source": [
    "from sklearn.model_selection import GridSearchCV\n"
   ]
  },
  {
   "cell_type": "code",
   "execution_count": 77,
   "metadata": {},
   "outputs": [],
   "source": [
    "model = LogisticRegression()\n",
    "#max_iter=300, penalty='l2', C=1, solver='saga'\n",
    "\n",
    "param_grid = {\n",
    "    'penalty': ['l2'],           # Regularization technique\n",
    "    'C': [0.01, 0.1, 1, 10],      # Inverse of regularization strength\n",
    "    'max_iter': [300],         # Maximum number of iterations\n",
    "    #'multi_class': ['ovr','multinomial']\n",
    "    'solver': ['lbfgs','liblinear','newton-cg','sag','saga']\n",
    "}\n",
    "grid_search = GridSearchCV(estimator=model, param_grid=param_grid, cv=3, verbose=10,n_jobs=5)\n"
   ]
  },
  {
   "cell_type": "code",
   "execution_count": 78,
   "metadata": {},
   "outputs": [
    {
     "name": "stdout",
     "output_type": "stream",
     "text": [
      "Fitting 3 folds for each of 20 candidates, totalling 60 fits\n"
     ]
    },
    {
     "name": "stderr",
     "output_type": "stream",
     "text": [
      "c:\\Python312\\Lib\\site-packages\\sklearn\\linear_model\\_sag.py:349: ConvergenceWarning: The max_iter was reached which means the coef_ did not converge\n",
      "  warnings.warn(\n"
     ]
    },
    {
     "data": {
      "text/html": [
       "<style>#sk-container-id-6 {\n",
       "  /* Definition of color scheme common for light and dark mode */\n",
       "  --sklearn-color-text: black;\n",
       "  --sklearn-color-line: gray;\n",
       "  /* Definition of color scheme for unfitted estimators */\n",
       "  --sklearn-color-unfitted-level-0: #fff5e6;\n",
       "  --sklearn-color-unfitted-level-1: #f6e4d2;\n",
       "  --sklearn-color-unfitted-level-2: #ffe0b3;\n",
       "  --sklearn-color-unfitted-level-3: chocolate;\n",
       "  /* Definition of color scheme for fitted estimators */\n",
       "  --sklearn-color-fitted-level-0: #f0f8ff;\n",
       "  --sklearn-color-fitted-level-1: #d4ebff;\n",
       "  --sklearn-color-fitted-level-2: #b3dbfd;\n",
       "  --sklearn-color-fitted-level-3: cornflowerblue;\n",
       "\n",
       "  /* Specific color for light theme */\n",
       "  --sklearn-color-text-on-default-background: var(--sg-text-color, var(--theme-code-foreground, var(--jp-content-font-color1, black)));\n",
       "  --sklearn-color-background: var(--sg-background-color, var(--theme-background, var(--jp-layout-color0, white)));\n",
       "  --sklearn-color-border-box: var(--sg-text-color, var(--theme-code-foreground, var(--jp-content-font-color1, black)));\n",
       "  --sklearn-color-icon: #696969;\n",
       "\n",
       "  @media (prefers-color-scheme: dark) {\n",
       "    /* Redefinition of color scheme for dark theme */\n",
       "    --sklearn-color-text-on-default-background: var(--sg-text-color, var(--theme-code-foreground, var(--jp-content-font-color1, white)));\n",
       "    --sklearn-color-background: var(--sg-background-color, var(--theme-background, var(--jp-layout-color0, #111)));\n",
       "    --sklearn-color-border-box: var(--sg-text-color, var(--theme-code-foreground, var(--jp-content-font-color1, white)));\n",
       "    --sklearn-color-icon: #878787;\n",
       "  }\n",
       "}\n",
       "\n",
       "#sk-container-id-6 {\n",
       "  color: var(--sklearn-color-text);\n",
       "}\n",
       "\n",
       "#sk-container-id-6 pre {\n",
       "  padding: 0;\n",
       "}\n",
       "\n",
       "#sk-container-id-6 input.sk-hidden--visually {\n",
       "  border: 0;\n",
       "  clip: rect(1px 1px 1px 1px);\n",
       "  clip: rect(1px, 1px, 1px, 1px);\n",
       "  height: 1px;\n",
       "  margin: -1px;\n",
       "  overflow: hidden;\n",
       "  padding: 0;\n",
       "  position: absolute;\n",
       "  width: 1px;\n",
       "}\n",
       "\n",
       "#sk-container-id-6 div.sk-dashed-wrapped {\n",
       "  border: 1px dashed var(--sklearn-color-line);\n",
       "  margin: 0 0.4em 0.5em 0.4em;\n",
       "  box-sizing: border-box;\n",
       "  padding-bottom: 0.4em;\n",
       "  background-color: var(--sklearn-color-background);\n",
       "}\n",
       "\n",
       "#sk-container-id-6 div.sk-container {\n",
       "  /* jupyter's `normalize.less` sets `[hidden] { display: none; }`\n",
       "     but bootstrap.min.css set `[hidden] { display: none !important; }`\n",
       "     so we also need the `!important` here to be able to override the\n",
       "     default hidden behavior on the sphinx rendered scikit-learn.org.\n",
       "     See: https://github.com/scikit-learn/scikit-learn/issues/21755 */\n",
       "  display: inline-block !important;\n",
       "  position: relative;\n",
       "}\n",
       "\n",
       "#sk-container-id-6 div.sk-text-repr-fallback {\n",
       "  display: none;\n",
       "}\n",
       "\n",
       "div.sk-parallel-item,\n",
       "div.sk-serial,\n",
       "div.sk-item {\n",
       "  /* draw centered vertical line to link estimators */\n",
       "  background-image: linear-gradient(var(--sklearn-color-text-on-default-background), var(--sklearn-color-text-on-default-background));\n",
       "  background-size: 2px 100%;\n",
       "  background-repeat: no-repeat;\n",
       "  background-position: center center;\n",
       "}\n",
       "\n",
       "/* Parallel-specific style estimator block */\n",
       "\n",
       "#sk-container-id-6 div.sk-parallel-item::after {\n",
       "  content: \"\";\n",
       "  width: 100%;\n",
       "  border-bottom: 2px solid var(--sklearn-color-text-on-default-background);\n",
       "  flex-grow: 1;\n",
       "}\n",
       "\n",
       "#sk-container-id-6 div.sk-parallel {\n",
       "  display: flex;\n",
       "  align-items: stretch;\n",
       "  justify-content: center;\n",
       "  background-color: var(--sklearn-color-background);\n",
       "  position: relative;\n",
       "}\n",
       "\n",
       "#sk-container-id-6 div.sk-parallel-item {\n",
       "  display: flex;\n",
       "  flex-direction: column;\n",
       "}\n",
       "\n",
       "#sk-container-id-6 div.sk-parallel-item:first-child::after {\n",
       "  align-self: flex-end;\n",
       "  width: 50%;\n",
       "}\n",
       "\n",
       "#sk-container-id-6 div.sk-parallel-item:last-child::after {\n",
       "  align-self: flex-start;\n",
       "  width: 50%;\n",
       "}\n",
       "\n",
       "#sk-container-id-6 div.sk-parallel-item:only-child::after {\n",
       "  width: 0;\n",
       "}\n",
       "\n",
       "/* Serial-specific style estimator block */\n",
       "\n",
       "#sk-container-id-6 div.sk-serial {\n",
       "  display: flex;\n",
       "  flex-direction: column;\n",
       "  align-items: center;\n",
       "  background-color: var(--sklearn-color-background);\n",
       "  padding-right: 1em;\n",
       "  padding-left: 1em;\n",
       "}\n",
       "\n",
       "\n",
       "/* Toggleable style: style used for estimator/Pipeline/ColumnTransformer box that is\n",
       "clickable and can be expanded/collapsed.\n",
       "- Pipeline and ColumnTransformer use this feature and define the default style\n",
       "- Estimators will overwrite some part of the style using the `sk-estimator` class\n",
       "*/\n",
       "\n",
       "/* Pipeline and ColumnTransformer style (default) */\n",
       "\n",
       "#sk-container-id-6 div.sk-toggleable {\n",
       "  /* Default theme specific background. It is overwritten whether we have a\n",
       "  specific estimator or a Pipeline/ColumnTransformer */\n",
       "  background-color: var(--sklearn-color-background);\n",
       "}\n",
       "\n",
       "/* Toggleable label */\n",
       "#sk-container-id-6 label.sk-toggleable__label {\n",
       "  cursor: pointer;\n",
       "  display: block;\n",
       "  width: 100%;\n",
       "  margin-bottom: 0;\n",
       "  padding: 0.5em;\n",
       "  box-sizing: border-box;\n",
       "  text-align: center;\n",
       "}\n",
       "\n",
       "#sk-container-id-6 label.sk-toggleable__label-arrow:before {\n",
       "  /* Arrow on the left of the label */\n",
       "  content: \"▸\";\n",
       "  float: left;\n",
       "  margin-right: 0.25em;\n",
       "  color: var(--sklearn-color-icon);\n",
       "}\n",
       "\n",
       "#sk-container-id-6 label.sk-toggleable__label-arrow:hover:before {\n",
       "  color: var(--sklearn-color-text);\n",
       "}\n",
       "\n",
       "/* Toggleable content - dropdown */\n",
       "\n",
       "#sk-container-id-6 div.sk-toggleable__content {\n",
       "  max-height: 0;\n",
       "  max-width: 0;\n",
       "  overflow: hidden;\n",
       "  text-align: left;\n",
       "  /* unfitted */\n",
       "  background-color: var(--sklearn-color-unfitted-level-0);\n",
       "}\n",
       "\n",
       "#sk-container-id-6 div.sk-toggleable__content.fitted {\n",
       "  /* fitted */\n",
       "  background-color: var(--sklearn-color-fitted-level-0);\n",
       "}\n",
       "\n",
       "#sk-container-id-6 div.sk-toggleable__content pre {\n",
       "  margin: 0.2em;\n",
       "  border-radius: 0.25em;\n",
       "  color: var(--sklearn-color-text);\n",
       "  /* unfitted */\n",
       "  background-color: var(--sklearn-color-unfitted-level-0);\n",
       "}\n",
       "\n",
       "#sk-container-id-6 div.sk-toggleable__content.fitted pre {\n",
       "  /* unfitted */\n",
       "  background-color: var(--sklearn-color-fitted-level-0);\n",
       "}\n",
       "\n",
       "#sk-container-id-6 input.sk-toggleable__control:checked~div.sk-toggleable__content {\n",
       "  /* Expand drop-down */\n",
       "  max-height: 200px;\n",
       "  max-width: 100%;\n",
       "  overflow: auto;\n",
       "}\n",
       "\n",
       "#sk-container-id-6 input.sk-toggleable__control:checked~label.sk-toggleable__label-arrow:before {\n",
       "  content: \"▾\";\n",
       "}\n",
       "\n",
       "/* Pipeline/ColumnTransformer-specific style */\n",
       "\n",
       "#sk-container-id-6 div.sk-label input.sk-toggleable__control:checked~label.sk-toggleable__label {\n",
       "  color: var(--sklearn-color-text);\n",
       "  background-color: var(--sklearn-color-unfitted-level-2);\n",
       "}\n",
       "\n",
       "#sk-container-id-6 div.sk-label.fitted input.sk-toggleable__control:checked~label.sk-toggleable__label {\n",
       "  background-color: var(--sklearn-color-fitted-level-2);\n",
       "}\n",
       "\n",
       "/* Estimator-specific style */\n",
       "\n",
       "/* Colorize estimator box */\n",
       "#sk-container-id-6 div.sk-estimator input.sk-toggleable__control:checked~label.sk-toggleable__label {\n",
       "  /* unfitted */\n",
       "  background-color: var(--sklearn-color-unfitted-level-2);\n",
       "}\n",
       "\n",
       "#sk-container-id-6 div.sk-estimator.fitted input.sk-toggleable__control:checked~label.sk-toggleable__label {\n",
       "  /* fitted */\n",
       "  background-color: var(--sklearn-color-fitted-level-2);\n",
       "}\n",
       "\n",
       "#sk-container-id-6 div.sk-label label.sk-toggleable__label,\n",
       "#sk-container-id-6 div.sk-label label {\n",
       "  /* The background is the default theme color */\n",
       "  color: var(--sklearn-color-text-on-default-background);\n",
       "}\n",
       "\n",
       "/* On hover, darken the color of the background */\n",
       "#sk-container-id-6 div.sk-label:hover label.sk-toggleable__label {\n",
       "  color: var(--sklearn-color-text);\n",
       "  background-color: var(--sklearn-color-unfitted-level-2);\n",
       "}\n",
       "\n",
       "/* Label box, darken color on hover, fitted */\n",
       "#sk-container-id-6 div.sk-label.fitted:hover label.sk-toggleable__label.fitted {\n",
       "  color: var(--sklearn-color-text);\n",
       "  background-color: var(--sklearn-color-fitted-level-2);\n",
       "}\n",
       "\n",
       "/* Estimator label */\n",
       "\n",
       "#sk-container-id-6 div.sk-label label {\n",
       "  font-family: monospace;\n",
       "  font-weight: bold;\n",
       "  display: inline-block;\n",
       "  line-height: 1.2em;\n",
       "}\n",
       "\n",
       "#sk-container-id-6 div.sk-label-container {\n",
       "  text-align: center;\n",
       "}\n",
       "\n",
       "/* Estimator-specific */\n",
       "#sk-container-id-6 div.sk-estimator {\n",
       "  font-family: monospace;\n",
       "  border: 1px dotted var(--sklearn-color-border-box);\n",
       "  border-radius: 0.25em;\n",
       "  box-sizing: border-box;\n",
       "  margin-bottom: 0.5em;\n",
       "  /* unfitted */\n",
       "  background-color: var(--sklearn-color-unfitted-level-0);\n",
       "}\n",
       "\n",
       "#sk-container-id-6 div.sk-estimator.fitted {\n",
       "  /* fitted */\n",
       "  background-color: var(--sklearn-color-fitted-level-0);\n",
       "}\n",
       "\n",
       "/* on hover */\n",
       "#sk-container-id-6 div.sk-estimator:hover {\n",
       "  /* unfitted */\n",
       "  background-color: var(--sklearn-color-unfitted-level-2);\n",
       "}\n",
       "\n",
       "#sk-container-id-6 div.sk-estimator.fitted:hover {\n",
       "  /* fitted */\n",
       "  background-color: var(--sklearn-color-fitted-level-2);\n",
       "}\n",
       "\n",
       "/* Specification for estimator info (e.g. \"i\" and \"?\") */\n",
       "\n",
       "/* Common style for \"i\" and \"?\" */\n",
       "\n",
       ".sk-estimator-doc-link,\n",
       "a:link.sk-estimator-doc-link,\n",
       "a:visited.sk-estimator-doc-link {\n",
       "  float: right;\n",
       "  font-size: smaller;\n",
       "  line-height: 1em;\n",
       "  font-family: monospace;\n",
       "  background-color: var(--sklearn-color-background);\n",
       "  border-radius: 1em;\n",
       "  height: 1em;\n",
       "  width: 1em;\n",
       "  text-decoration: none !important;\n",
       "  margin-left: 1ex;\n",
       "  /* unfitted */\n",
       "  border: var(--sklearn-color-unfitted-level-1) 1pt solid;\n",
       "  color: var(--sklearn-color-unfitted-level-1);\n",
       "}\n",
       "\n",
       ".sk-estimator-doc-link.fitted,\n",
       "a:link.sk-estimator-doc-link.fitted,\n",
       "a:visited.sk-estimator-doc-link.fitted {\n",
       "  /* fitted */\n",
       "  border: var(--sklearn-color-fitted-level-1) 1pt solid;\n",
       "  color: var(--sklearn-color-fitted-level-1);\n",
       "}\n",
       "\n",
       "/* On hover */\n",
       "div.sk-estimator:hover .sk-estimator-doc-link:hover,\n",
       ".sk-estimator-doc-link:hover,\n",
       "div.sk-label-container:hover .sk-estimator-doc-link:hover,\n",
       ".sk-estimator-doc-link:hover {\n",
       "  /* unfitted */\n",
       "  background-color: var(--sklearn-color-unfitted-level-3);\n",
       "  color: var(--sklearn-color-background);\n",
       "  text-decoration: none;\n",
       "}\n",
       "\n",
       "div.sk-estimator.fitted:hover .sk-estimator-doc-link.fitted:hover,\n",
       ".sk-estimator-doc-link.fitted:hover,\n",
       "div.sk-label-container:hover .sk-estimator-doc-link.fitted:hover,\n",
       ".sk-estimator-doc-link.fitted:hover {\n",
       "  /* fitted */\n",
       "  background-color: var(--sklearn-color-fitted-level-3);\n",
       "  color: var(--sklearn-color-background);\n",
       "  text-decoration: none;\n",
       "}\n",
       "\n",
       "/* Span, style for the box shown on hovering the info icon */\n",
       ".sk-estimator-doc-link span {\n",
       "  display: none;\n",
       "  z-index: 9999;\n",
       "  position: relative;\n",
       "  font-weight: normal;\n",
       "  right: .2ex;\n",
       "  padding: .5ex;\n",
       "  margin: .5ex;\n",
       "  width: min-content;\n",
       "  min-width: 20ex;\n",
       "  max-width: 50ex;\n",
       "  color: var(--sklearn-color-text);\n",
       "  box-shadow: 2pt 2pt 4pt #999;\n",
       "  /* unfitted */\n",
       "  background: var(--sklearn-color-unfitted-level-0);\n",
       "  border: .5pt solid var(--sklearn-color-unfitted-level-3);\n",
       "}\n",
       "\n",
       ".sk-estimator-doc-link.fitted span {\n",
       "  /* fitted */\n",
       "  background: var(--sklearn-color-fitted-level-0);\n",
       "  border: var(--sklearn-color-fitted-level-3);\n",
       "}\n",
       "\n",
       ".sk-estimator-doc-link:hover span {\n",
       "  display: block;\n",
       "}\n",
       "\n",
       "/* \"?\"-specific style due to the `<a>` HTML tag */\n",
       "\n",
       "#sk-container-id-6 a.estimator_doc_link {\n",
       "  float: right;\n",
       "  font-size: 1rem;\n",
       "  line-height: 1em;\n",
       "  font-family: monospace;\n",
       "  background-color: var(--sklearn-color-background);\n",
       "  border-radius: 1rem;\n",
       "  height: 1rem;\n",
       "  width: 1rem;\n",
       "  text-decoration: none;\n",
       "  /* unfitted */\n",
       "  color: var(--sklearn-color-unfitted-level-1);\n",
       "  border: var(--sklearn-color-unfitted-level-1) 1pt solid;\n",
       "}\n",
       "\n",
       "#sk-container-id-6 a.estimator_doc_link.fitted {\n",
       "  /* fitted */\n",
       "  border: var(--sklearn-color-fitted-level-1) 1pt solid;\n",
       "  color: var(--sklearn-color-fitted-level-1);\n",
       "}\n",
       "\n",
       "/* On hover */\n",
       "#sk-container-id-6 a.estimator_doc_link:hover {\n",
       "  /* unfitted */\n",
       "  background-color: var(--sklearn-color-unfitted-level-3);\n",
       "  color: var(--sklearn-color-background);\n",
       "  text-decoration: none;\n",
       "}\n",
       "\n",
       "#sk-container-id-6 a.estimator_doc_link.fitted:hover {\n",
       "  /* fitted */\n",
       "  background-color: var(--sklearn-color-fitted-level-3);\n",
       "}\n",
       "</style><div id=\"sk-container-id-6\" class=\"sk-top-container\"><div class=\"sk-text-repr-fallback\"><pre>GridSearchCV(cv=3, estimator=LogisticRegression(), n_jobs=5,\n",
       "             param_grid={&#x27;C&#x27;: [0.01, 0.1, 1, 10], &#x27;max_iter&#x27;: [300],\n",
       "                         &#x27;penalty&#x27;: [&#x27;l2&#x27;],\n",
       "                         &#x27;solver&#x27;: [&#x27;lbfgs&#x27;, &#x27;liblinear&#x27;, &#x27;newton-cg&#x27;, &#x27;sag&#x27;,\n",
       "                                    &#x27;saga&#x27;]},\n",
       "             verbose=10)</pre><b>In a Jupyter environment, please rerun this cell to show the HTML representation or trust the notebook. <br />On GitHub, the HTML representation is unable to render, please try loading this page with nbviewer.org.</b></div><div class=\"sk-container\" hidden><div class=\"sk-item sk-dashed-wrapped\"><div class=\"sk-label-container\"><div class=\"sk-label fitted sk-toggleable\"><input class=\"sk-toggleable__control sk-hidden--visually\" id=\"sk-estimator-id-16\" type=\"checkbox\" ><label for=\"sk-estimator-id-16\" class=\"sk-toggleable__label fitted sk-toggleable__label-arrow fitted\">&nbsp;&nbsp;GridSearchCV<a class=\"sk-estimator-doc-link fitted\" rel=\"noreferrer\" target=\"_blank\" href=\"https://scikit-learn.org/1.5/modules/generated/sklearn.model_selection.GridSearchCV.html\">?<span>Documentation for GridSearchCV</span></a><span class=\"sk-estimator-doc-link fitted\">i<span>Fitted</span></span></label><div class=\"sk-toggleable__content fitted\"><pre>GridSearchCV(cv=3, estimator=LogisticRegression(), n_jobs=5,\n",
       "             param_grid={&#x27;C&#x27;: [0.01, 0.1, 1, 10], &#x27;max_iter&#x27;: [300],\n",
       "                         &#x27;penalty&#x27;: [&#x27;l2&#x27;],\n",
       "                         &#x27;solver&#x27;: [&#x27;lbfgs&#x27;, &#x27;liblinear&#x27;, &#x27;newton-cg&#x27;, &#x27;sag&#x27;,\n",
       "                                    &#x27;saga&#x27;]},\n",
       "             verbose=10)</pre></div> </div></div><div class=\"sk-parallel\"><div class=\"sk-parallel-item\"><div class=\"sk-item\"><div class=\"sk-label-container\"><div class=\"sk-label fitted sk-toggleable\"><input class=\"sk-toggleable__control sk-hidden--visually\" id=\"sk-estimator-id-17\" type=\"checkbox\" ><label for=\"sk-estimator-id-17\" class=\"sk-toggleable__label fitted sk-toggleable__label-arrow fitted\">best_estimator_: LogisticRegression</label><div class=\"sk-toggleable__content fitted\"><pre>LogisticRegression(C=1, max_iter=300, solver=&#x27;saga&#x27;)</pre></div> </div></div><div class=\"sk-serial\"><div class=\"sk-item\"><div class=\"sk-estimator fitted sk-toggleable\"><input class=\"sk-toggleable__control sk-hidden--visually\" id=\"sk-estimator-id-18\" type=\"checkbox\" ><label for=\"sk-estimator-id-18\" class=\"sk-toggleable__label fitted sk-toggleable__label-arrow fitted\">&nbsp;LogisticRegression<a class=\"sk-estimator-doc-link fitted\" rel=\"noreferrer\" target=\"_blank\" href=\"https://scikit-learn.org/1.5/modules/generated/sklearn.linear_model.LogisticRegression.html\">?<span>Documentation for LogisticRegression</span></a></label><div class=\"sk-toggleable__content fitted\"><pre>LogisticRegression(C=1, max_iter=300, solver=&#x27;saga&#x27;)</pre></div> </div></div></div></div></div></div></div></div></div>"
      ],
      "text/plain": [
       "GridSearchCV(cv=3, estimator=LogisticRegression(), n_jobs=5,\n",
       "             param_grid={'C': [0.01, 0.1, 1, 10], 'max_iter': [300],\n",
       "                         'penalty': ['l2'],\n",
       "                         'solver': ['lbfgs', 'liblinear', 'newton-cg', 'sag',\n",
       "                                    'saga']},\n",
       "             verbose=10)"
      ]
     },
     "execution_count": 78,
     "metadata": {},
     "output_type": "execute_result"
    }
   ],
   "source": [
    "grid_search.fit(X_train_cv, y_train_cv)\n"
   ]
  },
  {
   "cell_type": "code",
   "execution_count": 79,
   "metadata": {},
   "outputs": [],
   "source": [
    "best_model = grid_search.best_estimator_\n",
    "predictions = best_model.predict(X_test_cv)\n",
    "best_model.get_params()"
   ]
  },
  {
   "cell_type": "code",
   "execution_count": 80,
   "metadata": {},
   "outputs": [
    {
     "name": "stdout",
     "output_type": "stream",
     "text": [
      "CountVectorizor: \n",
      "Mean Squared Error:  0.4754755731160934\n",
      "Precision:  0.7633689279105005\n",
      "F1 Score:  0.7797176274836057\n",
      "Accuracy:  0.7739229793699225\n",
      "R2 Score:  0.09567499634111154\n"
     ]
    }
   ],
   "source": [
    "print('CountVectorizor: ')\n",
    "evaluate(y_test_cv,predictions)"
   ]
  },
  {
   "cell_type": "code",
   "execution_count": 81,
   "metadata": {},
   "outputs": [
    {
     "data": {
      "text/plain": [
       "{'C': 1,\n",
       " 'class_weight': None,\n",
       " 'dual': False,\n",
       " 'fit_intercept': True,\n",
       " 'intercept_scaling': 1,\n",
       " 'l1_ratio': None,\n",
       " 'max_iter': 300,\n",
       " 'multi_class': 'deprecated',\n",
       " 'n_jobs': None,\n",
       " 'penalty': 'l2',\n",
       " 'random_state': None,\n",
       " 'solver': 'saga',\n",
       " 'tol': 0.0001,\n",
       " 'verbose': 0,\n",
       " 'warm_start': False}"
      ]
     },
     "execution_count": 81,
     "metadata": {},
     "output_type": "execute_result"
    }
   ],
   "source": [
    "best_model.get_params()"
   ]
  },
  {
   "cell_type": "code",
   "execution_count": 14,
   "metadata": {},
   "outputs": [
    {
     "name": "stderr",
     "output_type": "stream",
     "text": [
      "[Parallel(n_jobs=5)]: Using backend ThreadingBackend with 5 concurrent workers.\n"
     ]
    },
    {
     "name": "stdout",
     "output_type": "stream",
     "text": [
      "max_iter reached after 230 seconds\n",
      "CountVectorizor: \n",
      "Mean Squared Error:  0.475485476003244\n",
      "Precision:  0.7633678309616214\n",
      "F1 Score:  0.7797050825995063\n"
     ]
    },
    {
     "name": "stderr",
     "output_type": "stream",
     "text": [
      "[Parallel(n_jobs=5)]: Done   1 tasks      | elapsed:  3.8min\n"
     ]
    },
    {
     "name": "stdout",
     "output_type": "stream",
     "text": [
      "Accuracy:  0.7739135621099685\n",
      "R2 Score:  0.09563732659644375\n"
     ]
    }
   ],
   "source": [
    "model = LogisticRegression(max_iter=300, penalty='l2', C=1, solver='saga',n_jobs=5,verbose=10)\n",
    "model.fit(X_train_cv, y_train_cv)\n",
    "predictions = model.predict(X_test_cv)\n",
    "print('CountVectorizor: ')\n",
    "evaluate(y_test_cv,predictions)"
   ]
  },
  {
   "cell_type": "code",
   "execution_count": 15,
   "metadata": {},
   "outputs": [
    {
     "name": "stderr",
     "output_type": "stream",
     "text": [
      "[Parallel(n_jobs=5)]: Using backend ThreadingBackend with 5 concurrent workers.\n"
     ]
    },
    {
     "name": "stdout",
     "output_type": "stream",
     "text": [
      "convergence after 22 epochs took 16 seconds\n",
      "TFIDFVectorizor: \n",
      "Mean Squared Error:  0.47385532409261477\n",
      "Precision:  0.7664383107688785\n",
      "F1 Score:  0.7805424311222925\n"
     ]
    },
    {
     "name": "stderr",
     "output_type": "stream",
     "text": [
      "[Parallel(n_jobs=5)]: Done   1 tasks      | elapsed:   16.0s\n"
     ]
    },
    {
     "name": "stdout",
     "output_type": "stream",
     "text": [
      "Accuracy:  0.775461131829083\n",
      "R2 Score:  0.1018277213035228\n"
     ]
    }
   ],
   "source": [
    "model.fit(X_train_tfidf, y_train_tfidf)\n",
    "predictions = model.predict(X_test_tfidf)\n",
    "print('TFIDFVectorizor: ')\n",
    "evaluate(y_test_cv,predictions)"
   ]
  },
  {
   "cell_type": "code",
   "execution_count": 16,
   "metadata": {},
   "outputs": [],
   "source": [
    "from sklearn.linear_model import LinearRegression"
   ]
  },
  {
   "cell_type": "code",
   "execution_count": 18,
   "metadata": {},
   "outputs": [],
   "source": [
    "model = LinearRegression(copy_X=True, fit_intercept=True, n_jobs=5, positive=False)\n",
    "#{'copy_X': True, 'fit_intercept': True, 'n_jobs': None, 'positive': False}\n"
   ]
  },
  {
   "cell_type": "code",
   "execution_count": null,
   "metadata": {},
   "outputs": [],
   "source": [
    "model = LinearRegression()\n",
    "param_grid = {\n",
    "    'fit_intercept': [True, False],\n",
    "    'copy_X': [True, False],\n",
    "}\n",
    "\n",
    "grid_search = GridSearchCV(estimator=model, param_grid=param_grid, cv=3, verbose=10)\n",
    "grid_search.fit(X_train_cv, y_train_cv)\n",
    "best_model = grid_search.best_estimator_\n",
    "predictions = best_model.predict(X_test_cv)\n",
    "predictions2 = (predictions > 0.5).astype(int)\n",
    "print('CountVectorizer: ')\n",
    "evaluate(y_test_cv, predictions2)\n",
    "print(\"Best parameters found: \", best_model.get_params())"
   ]
  },
  {
   "cell_type": "markdown",
   "metadata": {},
   "source": [
    "CountVectorizer: \n",
    "Mean Squared Error:  0.4304197655667803\n",
    "R2 Score:  0.2589414354341024\n",
    "Best parameters found:  {'copy_X': True, 'fit_intercept': True, 'n_jobs': None, 'positive': False}"
   ]
  },
  {
   "cell_type": "code",
   "execution_count": 19,
   "metadata": {},
   "outputs": [
    {
     "name": "stdout",
     "output_type": "stream",
     "text": [
      "CountVectorizor: \n",
      "Mean Squared Error:  0.43042207679729727\n",
      "R2 Score:  0.25893347686944146\n"
     ]
    }
   ],
   "source": [
    "model.fit(X_train_cv, y_train_cv)\n",
    "predictions = model.predict(X_test_cv)\n",
    "print('CountVectorizor: ')\n",
    "mse = root_mean_squared_error(y_test_cv, predictions)\n",
    "print(\"Mean Squared Error: \",mse)\n",
    "r2 = r2_score(y_test_cv, predictions)\n",
    "print(\"R2 Score: \",r2)"
   ]
  },
  {
   "cell_type": "code",
   "execution_count": 20,
   "metadata": {},
   "outputs": [
    {
     "name": "stdout",
     "output_type": "stream",
     "text": [
      "TFIDFVectorizor: \n",
      "Mean Squared Error:  0.42212927148638\n",
      "R2 Score:  0.28721417543490035\n"
     ]
    }
   ],
   "source": [
    "model.fit(X_train_tfidf, y_train_tfidf)\n",
    "predictions = model.predict(X_test_tfidf)\n",
    "print('TFIDFVectorizor: ')\n",
    "predictions2 = (predictions > 0.5).astype(int)\n",
    "evaluate(y_test_cv, predictions2)"
   ]
  },
  {
   "cell_type": "code",
   "execution_count": 22,
   "metadata": {},
   "outputs": [],
   "source": [
    "from sklearn.neighbors import KNeighborsClassifier\n",
    "param_grid = {\n",
    "    'n_neighbors': [1,3,5,7,9,11,13],           # Regularization technique\n",
    "    'weights': ['uniform','distance'],      # Inverse of regularization strength\n",
    "    'algorithm': ['brute'],         # Maximum number of iterations\n",
    "    #'multi_class': ['ovr','multinomial']\n",
    "    'metric': ['euclidean','minkowski','manhattan']\n",
    "}\n",
    "knn = KNeighborsClassifier()\n",
    "grid_search = GridSearchCV(estimator=knn, param_grid=param_grid, cv=3, verbose=10)\n",
    "\n",
    "\n",
    "# for _ in tqdm(range(1), desc=\"Training Progress\"):\n",
    "#     knn.fit(X_train_cv, y_train_cv)\n"
   ]
  },
  {
   "cell_type": "code",
   "execution_count": null,
   "metadata": {},
   "outputs": [
    {
     "name": "stdout",
     "output_type": "stream",
     "text": [
      "Fitting 3 folds for each of 42 candidates, totalling 126 fits\n",
      "[CV 1/3; 1/42] START algorithm=brute, metric=euclidean, n_neighbors=1, weights=uniform\n"
     ]
    }
   ],
   "source": [
    "grid_search.fit(X_train_cv, y_train_cv)\n",
    "best_model = grid_search.best_estimator_\n",
    "predictions = best_model.predict(X_test_cv)\n",
    "best_model.get_params()\n",
    "print('CountVectorizor: ')\n",
    "evaluate(y_test_cv,predictions)"
   ]
  },
  {
   "cell_type": "code",
   "execution_count": 29,
   "metadata": {},
   "outputs": [],
   "source": [
    "knn = KNeighborsClassifier()\n",
    "param_grid = {\n",
    "    'n_neighbors': [5],           # Regularization technique\n",
    "}\n",
    "grid_search = GridSearchCV(estimator=knn, param_grid=param_grid, cv=2, verbose=10)\n"
   ]
  },
  {
   "cell_type": "code",
   "execution_count": 30,
   "metadata": {},
   "outputs": [
    {
     "name": "stdout",
     "output_type": "stream",
     "text": [
      "Fitting 2 folds for each of 1 candidates, totalling 2 fits\n",
      "[CV 1/2; 1/1] START n_neighbors=5...............................................\n",
      "[CV 1/2; 1/1] END ...............n_neighbors=5;, score=0.695 total time=167.8min\n",
      "[CV 2/2; 1/1] START n_neighbors=5...............................................\n",
      "[CV 2/2; 1/1] END ...............n_neighbors=5;, score=0.695 total time=164.4min\n",
      "CountVectorizor: \n",
      "Mean Squared Error:  0.5452721625656952\n",
      "R2 Score:  -0.18930917865253094\n"
     ]
    }
   ],
   "source": [
    "grid_search.fit(X_train_cv, y_train_cv)\n",
    "best_model = grid_search.best_estimator_\n",
    "predictions = best_model.predict(X_test_cv)\n"
   ]
  },
  {
   "cell_type": "code",
   "execution_count": 34,
   "metadata": {},
   "outputs": [
    {
     "name": "stdout",
     "output_type": "stream",
     "text": [
      "Mean Squared Error:  0.5452721625656952\n",
      "Precision:  0.6911741441034985\n",
      "F1 Score:  0.7135373820469393\n",
      "Accuracy:  0.7026782687309301\n",
      "R2 Score:  -0.18930917865253094\n"
     ]
    }
   ],
   "source": [
    "print('CountVectorizor: ')\n",
    "evaluate(y_test_cv,predictions)"
   ]
  },
  {
   "cell_type": "code",
   "execution_count": null,
   "metadata": {},
   "outputs": [],
   "source": [
    "grid_search.fit(X_train_tfidf, y_train_tfidf)\n",
    "best_model = grid_search.best_estimator_\n",
    "predictions = best_model.predict(X_test_tfidf)\n",
    "print('CountVectorizor: ')\n",
    "evaluate(y_test_cv,predictions)"
   ]
  },
  {
   "cell_type": "code",
   "execution_count": 12,
   "metadata": {},
   "outputs": [],
   "source": [
    "from sklearn.naive_bayes import BernoulliNB, MultinomialNB"
   ]
  },
  {
   "cell_type": "code",
   "execution_count": 78,
   "metadata": {},
   "outputs": [
    {
     "name": "stdout",
     "output_type": "stream",
     "text": [
      "CountVectorizor: \n",
      "Mean Squared Error:  0.48401125782717513\n",
      "Precision:  0.7676069587467232\n",
      "F1 Score:  0.7663645613211238\n",
      "Accuracy:  0.7657331022965558\n",
      "R2 Score:  0.06291487506166094\n"
     ]
    }
   ],
   "source": [
    "model = BernoulliNB()\n",
    "param_grid = {\n",
    "    'alpha': [0.1, 0.5, 1.0, 2.0, 5.0, 10.0],  # Additive (Laplace/Lidstone) smoothing parameter\n",
    "    'fit_prior': [True, False],                # Whether to learn class prior probabilities\n",
    "    'binarize': [0.0, 0.1, 0.5, 1.0]          # Threshold for binarizing the feature\n",
    "}\n",
    "\n",
    "grid_search = GridSearchCV(estimator=model, param_grid=param_grid, cv=5, verbose=10, n_jobs=5)\n",
    "grid_search.fit(X_train_cv, y_train_cv)\n",
    "best_model = grid_search.best_estimator_\n",
    "predictions = best_model.predict(X_test_cv)\n",
    "print('CountVectorizer: ')\n",
    "evaluate(y_test_cv, predictions)\n",
    "print(\"Best parameters found: \", best_model.get_params())"
   ]
  },
  {
   "cell_type": "markdown",
   "metadata": {},
   "source": [
    "Mean Squared Error:  0.48327133780820986\n",
    "Precision:  0.7684700626231442\n",
    "F1 Score:  0.7670141574574822\n",
    "Accuracy:  0.7664488140530631\n",
    "R2 Score:  0.06577777565641552\n",
    "Best parameters found:  {'alpha': 5.0, 'binarize': 0.0, 'class_prior': None, 'fit_prior': False, 'force_alpha': True}"
   ]
  },
  {
   "cell_type": "code",
   "execution_count": null,
   "metadata": {},
   "outputs": [],
   "source": [
    "model = MultinomialNB()\n",
    "\n",
    "param_grid = {\n",
    "    'alpha': [0.1, 0.5, 1.0, 2.0, 5.0, 10.0],\n",
    "    'fit_prior': [True, False],\n",
    "    'force_alpha': [True, False]\n",
    "}\n",
    "\n",
    "grid_search = GridSearchCV(estimator=model, param_grid=param_grid, cv=5, verbose=3, n_jobs=5)\n",
    "grid_search.fit(X_train_cv, y_train_cv)\n",
    "best_model = grid_search.best_estimator_\n",
    "predictions = best_model.predict(X_test_cv)\n",
    "print('CountVectorizer: ')\n",
    "evaluate(y_test_cv, predictions)\n",
    "print(\"Best parameters found: \", best_model.get_params())"
   ]
  },
  {
   "cell_type": "markdown",
   "metadata": {},
   "source": [
    "Mean Squared Error:  0.48530016916407587\n",
    "Precision:  0.7768348324859862\n",
    "F1 Score:  0.7605961881483514\n",
    "Accuracy:  0.7644837458093193\n",
    "R2 Score:  0.0579173556023963\n",
    "Best parameters found:  {'alpha': 5.0, 'class_prior': None, 'fit_prior': False, 'force_alpha': True}"
   ]
  },
  {
   "cell_type": "code",
   "execution_count": 15,
   "metadata": {},
   "outputs": [],
   "source": [
    "from sklearn.tree import DecisionTreeClassifier"
   ]
  },
  {
   "cell_type": "code",
   "execution_count": 16,
   "metadata": {},
   "outputs": [
    {
     "name": "stderr",
     "output_type": "stream",
     "text": [
      "Training Progress: 100%|██████████| 1/1 [06:13<00:00, 373.68s/it]\n"
     ]
    },
    {
     "name": "stdout",
     "output_type": "stream",
     "text": [
      "CountVectorizor: \n",
      "Mean Squared Error:  0.6310279556486665\n",
      "Precision:  0.5633206641022308\n",
      "F1 Score:  0.6990464938065989\n",
      "Accuracy:  0.6018037191898645\n",
      "R2 Score:  -0.5928149269527028\n"
     ]
    }
   ],
   "source": [
    "model = DecisionTreeClassifier(max_depth=10)\n",
    "param_grid = {\n",
    "    'criterion': ['gini', 'entropy','log_loss'],\n",
    "    'splitter': ['best', 'random'],\n",
    "    'max_features': ['sqrt','log2',None]\n",
    "\n",
    "}\n",
    "\n",
    "grid_search = GridSearchCV(estimator=model, param_grid=param_grid, cv=3, verbose=10)\n",
    "grid_search.fit(X_train_cv, y_train_cv)\n",
    "best_model = grid_search.best_estimator_\n",
    "predictions = best_model.predict(X_test_cv)\n",
    "print('CountVectorizer: ')\n",
    "evaluate2(y_test_cv, predictions)\n",
    "print(\"Best parameters found: \", best_model.get_params())"
   ]
  },
  {
   "cell_type": "markdown",
   "metadata": {},
   "source": [
    "F1 Score:  0.6990270531882335\n",
    "Accuracy:  0.601772328323351\n",
    "R2 Score:  -0.5929404927682622\n",
    "Best parameters found:  {'ccp_alpha': 0.0, 'class_weight': None, 'criterion': 'gini', 'max_depth': 10, 'max_features': None, 'max_leaf_nodes': None, 'min_impurity_decrease': 0.0, 'min_samples_leaf': 1, 'min_samples_split': 2, 'min_weight_fraction_leaf': 0.0, 'monotonic_cst': None, 'random_state': None, 'splitter': 'best'}\n"
   ]
  },
  {
   "cell_type": "code",
   "execution_count": 17,
   "metadata": {},
   "outputs": [
    {
     "name": "stderr",
     "output_type": "stream",
     "text": [
      "Training Progress: 100%|██████████| 1/1 [06:32<00:00, 392.26s/it]\n"
     ]
    },
    {
     "name": "stdout",
     "output_type": "stream",
     "text": [
      "TFIDFVectorizor: \n",
      "Mean Squared Error:  0.6312617166875892\n",
      "Precision:  0.5631593038821955\n",
      "F1 Score:  0.6987691643273591\n",
      "Accuracy:  0.6015086450446379\n",
      "R2 Score:  -0.5939952456189612\n"
     ]
    }
   ],
   "source": [
    "#Trr=DecisionTreeClassifier(max_depth=10, random_state=42)\n",
    "#Best parameters found:  {'ccp_alpha': 0.0, 'class_weight': None, 'criterion': 'gini', 'max_depth': 10, 'max_features': None, 'max_leaf_nodes': None, 'min_impurity_decrease': 0.0, 'min_samples_leaf': 1, 'min_samples_split': 2, 'min_weight_fraction_leaf': 0.0, 'monotonic_cst': None, 'random_state': None, 'splitter': 'best'}\n",
    "\n",
    "# for _ in tqdm(range(1), desc=\"Training Progress\"):\n",
    "#     Trr.fit(X_train_tfidf, y_train_tfidf)\n",
    "# predictions = Trr.predict(X_test_tfidf)\n",
    "# print('TFIDFVectorizor: ')\n",
    "# evaluate(y_test_tfidf,predictions)"
   ]
  },
  {
   "cell_type": "code",
   "execution_count": 19,
   "metadata": {},
   "outputs": [],
   "source": [
    "from sklearn.ensemble import RandomForestClassifier"
   ]
  },
  {
   "cell_type": "code",
   "execution_count": 20,
   "metadata": {},
   "outputs": [
    {
     "name": "stderr",
     "output_type": "stream",
     "text": [
      "Training Progress: 100%|██████████| 1/1 [09:01<00:00, 541.33s/it]\n"
     ]
    },
    {
     "name": "stdout",
     "output_type": "stream",
     "text": [
      "CountVectorizor: \n",
      "Mean Squared Error:  0.6312617166875892\n",
      "Precision:  0.5631593038821955\n",
      "F1 Score:  0.6987691643273591\n",
      "Accuracy:  0.6015086450446379\n",
      "R2 Score:  -0.5939952456189612\n"
     ]
    }
   ],
   "source": [
    "model = RandomForestClassifier(max_depth=10)\n",
    "param_grid = {\n",
    "    'criterion': ['gini', 'entropy','log_loss'],\n",
    "    'max_features': ['sqrt',1000],\n",
    "    'n_estimators':[300]\n",
    "\n",
    "}\n",
    "\n",
    "grid_search = GridSearchCV(estimator=model, param_grid=param_grid, cv=3, verbose=10)\n",
    "grid_search.fit(X_train_cv, y_train_cv)\n",
    "best_model = grid_search.best_estimator_\n",
    "predictions = best_model.predict(X_test_cv)\n",
    "print('CountVectorizer: ')\n",
    "evaluate2(y_test_cv, predictions)\n",
    "print(\"Best parameters found: \", best_model.get_params())"
   ]
  },
  {
   "cell_type": "markdown",
   "metadata": {},
   "source": [
    "Mean Squared Error:  0.5115564081209615\n",
    "Precision:  0.7393638295213099\n",
    "F1 Score:  0.7394770477919691\n",
    "Accuracy:  0.7383100413103804\n",
    "R2 Score:  -0.046779421411041744\n",
    "Best parameters found:  {'bootstrap': True, 'ccp_alpha': 0.0, 'class_weight': None, 'criterion': 'entropy', 'max_depth': 10, 'max_features': 'sqrt', 'max_leaf_nodes': None, 'max_samples': None, 'min_impurity_decrease': 0.0, 'min_samples_leaf': 1, 'min_samples_split': 2, 'min_weight_fraction_leaf': 0.0, 'monotonic_cst': None, 'n_estimators': 300, 'n_jobs': None, 'oob_score': False, 'random_state': None, 'verbose': 0, 'warm_start': False}"
   ]
  },
  {
   "cell_type": "code",
   "execution_count": 83,
   "metadata": {},
   "outputs": [],
   "source": [
    "from sklearn.svm import LinearSVC"
   ]
  },
  {
   "cell_type": "code",
   "execution_count": 84,
   "metadata": {},
   "outputs": [
    {
     "name": "stdout",
     "output_type": "stream",
     "text": [
      "CountVectorizor: \n",
      "Mean Squared Error:  0.48311217196529094\n",
      "Precision:  0.7576262720483363\n",
      "F1 Score:  0.7720242840497946\n",
      "Accuracy:  0.7666026292989792\n",
      "R2 Score:  0.06639304815265656\n"
     ]
    }
   ],
   "source": [
    "# LSVC=LinearSVC()\n",
    "# #{'C': 0.01, 'class_weight': None, 'dual': 'auto', 'fit_intercept': True, 'intercept_scaling': 1, 'loss': 'squared_hinge', 'max_iter': 1000, 'multi_class': 'ovr', 'penalty': 'l2', 'random_state': None, 'tol': 0.0001, 'verbose': 0}\n",
    "# LSVC.fit(X_train_cv, y_train_cv)\n",
    "# predictions = LSVC.predict(X_test_cv)\n",
    "# print('CountVectorizor: ')\n",
    "# evaluate(y_test_cv,predictions)"
   ]
  },
  {
   "cell_type": "code",
   "execution_count": null,
   "metadata": {},
   "outputs": [],
   "source": [
    "model = LinearSVC()\n",
    "\n",
    "param_grid = {\n",
    "    'C': [0.01, 0.1, 1, 10, 100],         # Regularization parameter\n",
    "    'loss': ['hinge', 'squared_hinge'],   # Loss functions for the SVM\n",
    "}\n",
    "\n",
    "grid_search = GridSearchCV(estimator=model, param_grid=param_grid, cv=3, verbose=10)\n",
    "grid_search.fit(X_train_cv, y_train_cv)\n",
    "best_model = grid_search.best_estimator_\n",
    "predictions = best_model.predict(X_test_cv)\n",
    "print('CountVectorizer: ')\n",
    "evaluate(y_test_cv, predictions)\n",
    "print(\"Best parameters found: \", best_model.get_params())"
   ]
  },
  {
   "cell_type": "markdown",
   "metadata": {},
   "source": [
    "Mean Squared Error:  0.4768369358775431\n",
    "Precision:  0.7577922536870376\n",
    "F1 Score:  0.7803429819108125\n",
    "Accuracy:  0.7726265365829158\n",
    "R2 Score:  0.09048912815850785\n",
    "Best parameters found:  {'C': 0.01, 'class_weight': None, 'dual': 'auto', 'fit_intercept': True, 'intercept_scaling': 1, 'loss': 'squared_hinge', 'max_iter': 1000, 'multi_class': 'ovr', 'penalty': 'l2', 'random_state': None, 'tol': 0.0001, 'verbose': 0}"
   ]
  },
  {
   "cell_type": "code",
   "execution_count": null,
   "metadata": {},
   "outputs": [],
   "source": [
    "from sklearn.linear_model import Perceptron\n",
    "print(\"\\nPerceptron:\")\n",
    "param_grid = {'max_iter': [500, 1000], 'eta0': [0.01, 0.1, 1.0]}\n",
    "model=Perceptron()\n",
    "grid = GridSearchCV(model, param_grid, cv=3)\n",
    "grid.fit(X_train_cv, y_train_cv)\n",
    "best_model = grid.best_estimator_\n",
    "print(f\"Best parameters: \",best_model.get_params())\n",
    "predictions = best_model.predict(X_test_cv)\n",
    "evaluate(y_test_cv, predictions)\n",
    "grid.fit(X_train_tfidf, y_train_tfidf)\n",
    "best_model = grid.best_estimator_\n",
    "print(f\"Best parameters: \",best_model.get_params())\n",
    "predictions = best_model.predict(X_test_tfidf)\n",
    "evaluate(y_test_tfidf, predictions)"
   ]
  },
  {
   "cell_type": "markdown",
   "metadata": {},
   "source": [
    "CountVectorizor:\n",
    "Mean Squared Error:  0.31076957848344444\n",
    "Precision:  0.7035229556242447\n",
    "F1 Score:  0.6803977272727273\n",
    "Accuracy:  0.6892304215165556\n",
    "R2 Score:  -0.24310157403818322\n",
    "TFIDFVectorizor:\n",
    "Mean Squared Error:  0.30289361007521254\n",
    "Precision:  0.6978778319472326\n",
    "F1 Score:  0.698816691793628\n",
    "Accuracy:  0.6971063899247875\n",
    "R2 Score:  -0.21159711091432665\n"
   ]
  },
  {
   "cell_type": "code",
   "execution_count": 35,
   "metadata": {},
   "outputs": [
    {
     "name": "stdout",
     "output_type": "stream",
     "text": [
      "Epoch 1/10\n",
      "\u001b[1m39821/39821\u001b[0m \u001b[32m━━━━━━━━━━━━━━━━━━━━\u001b[0m\u001b[37m\u001b[0m \u001b[1m283s\u001b[0m 7ms/step - accuracy: 0.7532 - loss: 0.5362\n",
      "Epoch 2/10\n",
      "\u001b[1m39821/39821\u001b[0m \u001b[32m━━━━━━━━━━━━━━━━━━━━\u001b[0m\u001b[37m\u001b[0m \u001b[1m288s\u001b[0m 7ms/step - accuracy: 0.7780 - loss: 0.4813\n",
      "Epoch 3/10\n",
      "\u001b[1m39821/39821\u001b[0m \u001b[32m━━━━━━━━━━━━━━━━━━━━\u001b[0m\u001b[37m\u001b[0m \u001b[1m285s\u001b[0m 7ms/step - accuracy: 0.7837 - loss: 0.4738\n",
      "Epoch 4/10\n",
      "\u001b[1m39821/39821\u001b[0m \u001b[32m━━━━━━━━━━━━━━━━━━━━\u001b[0m\u001b[37m\u001b[0m \u001b[1m275s\u001b[0m 7ms/step - accuracy: 0.7860 - loss: 0.4702\n",
      "Epoch 5/10\n",
      "\u001b[1m39821/39821\u001b[0m \u001b[32m━━━━━━━━━━━━━━━━━━━━\u001b[0m\u001b[37m\u001b[0m \u001b[1m282s\u001b[0m 7ms/step - accuracy: 0.7887 - loss: 0.4663\n",
      "Epoch 6/10\n",
      "\u001b[1m39821/39821\u001b[0m \u001b[32m━━━━━━━━━━━━━━━━━━━━\u001b[0m\u001b[37m\u001b[0m \u001b[1m291s\u001b[0m 7ms/step - accuracy: 0.7900 - loss: 0.4641\n",
      "Epoch 7/10\n",
      "\u001b[1m39821/39821\u001b[0m \u001b[32m━━━━━━━━━━━━━━━━━━━━\u001b[0m\u001b[37m\u001b[0m \u001b[1m295s\u001b[0m 7ms/step - accuracy: 0.7917 - loss: 0.4622\n",
      "Epoch 8/10\n",
      "\u001b[1m39821/39821\u001b[0m \u001b[32m━━━━━━━━━━━━━━━━━━━━\u001b[0m\u001b[37m\u001b[0m \u001b[1m272s\u001b[0m 7ms/step - accuracy: 0.7915 - loss: 0.4627\n",
      "Epoch 9/10\n",
      "\u001b[1m39821/39821\u001b[0m \u001b[32m━━━━━━━━━━━━━━━━━━━━\u001b[0m\u001b[37m\u001b[0m \u001b[1m265s\u001b[0m 7ms/step - accuracy: 0.7933 - loss: 0.4598\n",
      "Epoch 10/10\n",
      "\u001b[1m39821/39821\u001b[0m \u001b[32m━━━━━━━━━━━━━━━━━━━━\u001b[0m\u001b[37m\u001b[0m \u001b[1m264s\u001b[0m 7ms/step - accuracy: 0.7938 - loss: 0.4589\n",
      "\u001b[1m9956/9956\u001b[0m \u001b[32m━━━━━━━━━━━━━━━━━━━━\u001b[0m\u001b[37m\u001b[0m \u001b[1m50s\u001b[0m 5ms/step\n"
     ]
    }
   ],
   "source": [
    "from tensorflow.keras.models import Sequential\n",
    "from tensorflow.keras.layers import Dense\n",
    "model = Sequential()\n",
    "model.add(Dense(1, input_dim=X_train_cv.shape[1], activation='sigmoid'))\n",
    "model.compile(optimizer='adam', loss='binary_crossentropy', metrics=['accuracy'])\n",
    "model.fit(X_train_cv, y_train_cv, epochs=10, batch_size=32)\n",
    "predictions = model.predict(X_test_cv)\n"
   ]
  },
  {
   "cell_type": "code",
   "execution_count": 37,
   "metadata": {},
   "outputs": [
    {
     "name": "stdout",
     "output_type": "stream",
     "text": [
      "CountVectorizor: \n",
      "\u001b[1m9956/9956\u001b[0m \u001b[32m━━━━━━━━━━━━━━━━━━━━\u001b[0m\u001b[37m\u001b[0m \u001b[1m48s\u001b[0m 5ms/step - accuracy: 0.7703 - loss: 0.5051\n",
      "Test Loss: 0.5036\n",
      "Test Accuracy: 0.7706\n",
      "Precision: 0.7650\n",
      "Recall: 0.7839\n",
      "F1 Score: 0.7744\n"
     ]
    }
   ],
   "source": [
    "from sklearn.metrics import accuracy_score, precision_score, recall_score, f1_score\n",
    "print('CountVectorizor: ')\n",
    "loss, accuracy = model.evaluate(X_test_cv, y_test_cv)\n",
    "print(f\"Test Loss: {loss:.4f}\")\n",
    "print(f\"Test Accuracy: {accuracy:.4f}\")\n",
    "predictions2 = (predictions > 0.5).astype(int)\n",
    "precision = precision_score(y_test_cv, predictions2)\n",
    "recall = recall_score(y_test_cv, predictions2)\n",
    "f1 = f1_score(y_test_cv, predictions2)\n",
    "print(f\"Precision: {precision:.4f}\")\n",
    "print(f\"Recall: {recall:.4f}\")\n",
    "print(f\"F1 Score: {f1:.4f}\")"
   ]
  },
  {
   "cell_type": "code",
   "execution_count": 40,
   "metadata": {},
   "outputs": [
    {
     "name": "stdout",
     "output_type": "stream",
     "text": [
      "CountVectorizor: \n",
      "Mean Squared Error:  0.40182510179888625\n",
      "R2 Score:  0.35413432121276855\n"
     ]
    }
   ],
   "source": [
    "print('CountVectorizor: ')\n",
    "mse = root_mean_squared_error(y_test_cv, predictions)\n",
    "print(\"Mean Squared Error: \",mse)\n",
    "r2 = r2_score(y_test_cv, predictions)\n",
    "print(\"R2 Score: \",r2)"
   ]
  },
  {
   "cell_type": "code",
   "execution_count": 43,
   "metadata": {},
   "outputs": [
    {
     "name": "stdout",
     "output_type": "stream",
     "text": [
      "Iteration 1, loss = 0.51388196\n",
      "Validation score: 0.773704\n",
      "Iteration 2, loss = 0.47759346\n",
      "Validation score: 0.776553\n",
      "Iteration 3, loss = 0.46618413\n",
      "Validation score: 0.776953\n",
      "Iteration 4, loss = 0.45788871\n",
      "Validation score: 0.778672\n",
      "Iteration 5, loss = 0.45202855\n",
      "Validation score: 0.779786\n",
      "Iteration 6, loss = 0.44751256\n",
      "Validation score: 0.779786\n",
      "Iteration 7, loss = 0.44385805\n",
      "Validation score: 0.780579\n",
      "Iteration 8, loss = 0.44058735\n",
      "Validation score: 0.781371\n",
      "Iteration 9, loss = 0.43752680\n",
      "Validation score: 0.781457\n",
      "Iteration 10, loss = 0.43463641\n",
      "Validation score: 0.781481\n",
      "Iteration 11, loss = 0.43186900\n",
      "Validation score: 0.781104\n",
      "Iteration 12, loss = 0.42917552\n",
      "Validation score: 0.781104\n",
      "Iteration 13, loss = 0.42672200\n",
      "Validation score: 0.781293\n",
      "Iteration 14, loss = 0.42440809\n",
      "Validation score: 0.781073\n",
      "Iteration 15, loss = 0.42210583\n",
      "Validation score: 0.780602\n",
      "Iteration 16, loss = 0.41999505\n",
      "Validation score: 0.781811\n",
      "Iteration 17, loss = 0.41780823\n",
      "Validation score: 0.780359\n",
      "Iteration 18, loss = 0.41570690\n",
      "Validation score: 0.781952\n",
      "Iteration 19, loss = 0.41368458\n",
      "Validation score: 0.780312\n",
      "Iteration 20, loss = 0.41179144\n",
      "Validation score: 0.780390\n",
      "Iteration 21, loss = 0.40988791\n",
      "Validation score: 0.780359\n",
      "Iteration 22, loss = 0.40803429\n",
      "Validation score: 0.780335\n",
      "Iteration 23, loss = 0.40636163\n",
      "Validation score: 0.779959\n",
      "Iteration 24, loss = 0.40457633\n",
      "Validation score: 0.779292\n",
      "Iteration 25, loss = 0.40293815\n",
      "Validation score: 0.779284\n",
      "Iteration 26, loss = 0.40115428\n",
      "Validation score: 0.778350\n",
      "Iteration 27, loss = 0.39957649\n",
      "Validation score: 0.778358\n",
      "Iteration 28, loss = 0.39805456\n",
      "Validation score: 0.778342\n",
      "Iteration 29, loss = 0.39641680\n",
      "Validation score: 0.778358\n",
      "Validation score did not improve more than tol=0.000100 for 10 consecutive epochs. Stopping.\n"
     ]
    }
   ],
   "source": [
    "from sklearn.neural_network import MLPClassifier\n",
    "mlp = MLPClassifier(hidden_layer_sizes=(10,), activation='logistic', max_iter=200, random_state=42, \n",
    "verbose=True,   # This will now output updates more frequently\n",
    "early_stopping=True,   # Stops training if validation score stops improving\n",
    "n_iter_no_change=10    # Number of iterations with no improvement to wait before stopping)\n",
    ")\n",
    "mlp.fit(X_train_cv, y_train_cv)\n",
    "predictions = mlp.predict(X_test_cv)\n",
    "\n"
   ]
  },
  {
   "cell_type": "code",
   "execution_count": 44,
   "metadata": {},
   "outputs": [
    {
     "name": "stdout",
     "output_type": "stream",
     "text": [
      "CountVectorizor: \n",
      "Mean Squared Error:  0.4693089342908099\n",
      "Precision:  0.7802737605562595\n",
      "F1 Score:  0.7808635034854958\n",
      "Accuracy:  0.7797491241948242\n",
      "R2 Score:  0.11898001170893857\n"
     ]
    }
   ],
   "source": [
    "print('CountVectorizor: ')\n",
    "evaluate(y_test_cv,predictions)"
   ]
  },
  {
   "cell_type": "code",
   "execution_count": null,
   "metadata": {},
   "outputs": [],
   "source": [
    "mlp = MLPClassifier(hidden_layer_sizes=(10,), activation='logistic', max_iter=200, random_state=42, \n",
    "verbose=True,   # This will now output updates more frequently\n",
    "early_stopping=True,   # Stops training if validation score stops improving\n",
    "n_iter_no_change=10    # Number of iterations with no improvement to wait before stopping)\n",
    ")\n",
    "mlp.fit(X_train_tfidf, y_train_tfidf)\n",
    "predictions = mlp.predict(X_test_tfidf)\n",
    "print('CountVectorizor: ')\n",
    "evaluate(y_test_tfidf,predictions)"
   ]
  },
  {
   "cell_type": "code",
   "execution_count": 28,
   "metadata": {},
   "outputs": [],
   "source": [
    "import xgboost as xgb\n",
    "model = xgb.XGBClassifier(objective='binary:logistic', eval_metric='logloss', use_label_encoder=False)\n",
    "model.fit(X_train_cv, y_train_cv)\n",
    "y_pred = model.predict(X_test_cv)\n"
   ]
  },
  {
   "cell_type": "code",
   "execution_count": 29,
   "metadata": {},
   "outputs": [
    {
     "name": "stdout",
     "output_type": "stream",
     "text": [
      "CountVectorizor: \n",
      "Mean Squared Error:  0.46959646214296763\n",
      "Precision:  0.7847146855543496\n",
      "F1 Score:  0.7787638489106679\n",
      "Accuracy:  0.7794791627428084\n",
      "R2 Score:  0.11790014569512763\n"
     ]
    }
   ],
   "source": [
    "print('CountVectorizor: ')\n",
    "evaluate(y_test_cv,predictions)"
   ]
  },
  {
   "cell_type": "code",
   "execution_count": null,
   "metadata": {},
   "outputs": [],
   "source": [
    "model.fit(X_train_tfidf, y_train_tfidf)\n",
    "y_pred = model.predict(X_test_tfidf)\n",
    "print('CountVectorizor: ')\n",
    "evaluate(y_test_tfidf,predictions)"
   ]
  },
  {
   "cell_type": "code",
   "execution_count": 30,
   "metadata": {},
   "outputs": [
    {
     "name": "stdout",
     "output_type": "stream",
     "text": [
      "CountVectorizor: \n",
      "Mean Squared Error:  0.46959646214296763\n",
      "Precision:  0.7847146855543496\n",
      "F1 Score:  0.7787638489106679\n",
      "Accuracy:  0.7794791627428084\n",
      "R2 Score:  0.11790014569512763\n"
     ]
    }
   ],
   "source": [
    "from xgboost import XGBRFClassifier\n",
    "xgbrf = XGBRFClassifier(n_estimators=100, max_depth=5, random_state=42, verbosity=1)\n",
    "model.fit(X_train_cv, y_train_cv)\n",
    "y_pred = model.predict(X_test_cv)\n",
    "print('CountVectorizor: ')\n",
    "evaluate(y_test_cv,predictions)"
   ]
  },
  {
   "cell_type": "code",
   "execution_count": null,
   "metadata": {},
   "outputs": [],
   "source": [
    "model.fit(X_train_tfidf, y_train_tfidf)\n",
    "y_pred = model.predict(X_test_tfidf)\n",
    "print('CountVectorizor: ')\n",
    "evaluate(y_test_tfidf,predictions)"
   ]
  }
 ],
 "metadata": {
  "kernelspec": {
   "display_name": "Python 3",
   "language": "python",
   "name": "python3"
  },
  "language_info": {
   "codemirror_mode": {
    "name": "ipython",
    "version": 3
   },
   "file_extension": ".py",
   "mimetype": "text/x-python",
   "name": "python",
   "nbconvert_exporter": "python",
   "pygments_lexer": "ipython3",
   "version": "3.12.3"
  }
 },
 "nbformat": 4,
 "nbformat_minor": 2
}
